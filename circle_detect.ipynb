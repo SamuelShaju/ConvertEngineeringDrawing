{
  "cells": [
    {
      "attachments": {},
      "cell_type": "markdown",
      "metadata": {},
      "source": [
        "### Importing Libraries"
      ]
    },
    {
      "cell_type": "code",
      "execution_count": 7,
      "metadata": {
        "id": "6Y8vmOmMwbgk"
      },
      "outputs": [],
      "source": [
        "import cv2\n",
        "import numpy as np\n",
        "# from google.colab.patches import cv2_imshow"
      ]
    },
    {
      "attachments": {},
      "cell_type": "markdown",
      "metadata": {},
      "source": [
        "### Loading the image and making ca copy"
      ]
    },
    {
      "cell_type": "code",
      "execution_count": 8,
      "metadata": {
        "id": "bOFE03IKwZSW"
      },
      "outputs": [],
      "source": [
        "image = cv2.imread('./image/input_half.png')\n",
        "output = image.copy()"
      ]
    },
    {
      "attachments": {},
      "cell_type": "markdown",
      "metadata": {},
      "source": [
        "### Converting to grayscale and using histogram equalization"
      ]
    },
    {
      "cell_type": "code",
      "execution_count": 9,
      "metadata": {
        "id": "oVyiss_0wfI9"
      },
      "outputs": [],
      "source": [
        "img = cv2.cvtColor(image, cv2.COLOR_BGR2GRAY)"
      ]
    },
    {
      "cell_type": "code",
      "execution_count": 10,
      "metadata": {
        "colab": {
          "base_uri": "https://localhost:8080/",
          "height": 1000
        },
        "id": "Zk3L3odY0y44",
        "outputId": "438e29cb-7d9e-4feb-c674-e2607ed695bd"
      },
      "outputs": [
        {
          "name": "stdout",
          "output_type": "stream",
          "text": [
            "(2524, 2852)\n"
          ]
        }
      ],
      "source": [
        "print(img.shape)\n",
        "# cv2_imshow(img)\n",
        "equ = cv2.equalizeHist(img)\n",
        "# cv2.imshow(equ)\n",
        "equ = ~equ\n",
        "# cv2.imshow(equ)"
      ]
    },
    {
      "attachments": {},
      "cell_type": "markdown",
      "metadata": {},
      "source": [
        "### Using HoughCircles to detect circles"
      ]
    },
    {
      "cell_type": "code",
      "execution_count": 11,
      "metadata": {
        "colab": {
          "base_uri": "https://localhost:8080/"
        },
        "id": "IulQd-yzwu6N",
        "outputId": "559e0a74-0757-486f-c138-325b72dae6cc"
      },
      "outputs": [
        {
          "name": "stdout",
          "output_type": "stream",
          "text": [
            "5\n"
          ]
        }
      ],
      "source": [
        "# Find circles\n",
        "circles = cv2.HoughCircles(equ, cv2.HOUGH_GRADIENT, dp = 0.1, minDist = 150, param1 = 1.3, param2 = 50, maxRadius=150)\n",
        "print(len(circles[0]))\n",
        "circles = np.round(circles[0, :]).astype(\"int\")"
      ]
    },
    {
      "cell_type": "code",
      "execution_count": 12,
      "metadata": {
        "colab": {
          "base_uri": "https://localhost:8080/",
          "height": 782
        },
        "id": "fNQP9P4dwxsO",
        "outputId": "c3882770-35cc-4a9b-978b-51eccf0eaff8"
      },
      "outputs": [
        {
          "data": {
            "text/plain": [
              "-1"
            ]
          },
          "execution_count": 12,
          "metadata": {},
          "output_type": "execute_result"
        }
      ],
      "source": [
        "output = img.copy()\n",
        "# If some circle is found\n",
        "if circles is not None:\n",
        "   # Get the (x, y, r) as integers\n",
        "  #  print(circles)\n",
        "   # loop over the circles\n",
        "   for (x, y, r) in circles:\n",
        "      cv2.circle(output, (x, y), r, (0, 255, 0), 5)\n",
        "# show the output image\n",
        "# cv2.imshow(\"Circle Marked\", output)\n",
        "cv2.waitKey(0)"
      ]
    },
    {
      "cell_type": "code",
      "execution_count": 13,
      "metadata": {
        "colab": {
          "base_uri": "https://localhost:8080/"
        },
        "id": "obwLOkkc5c_2",
        "outputId": "f4ed0431-f22d-4b61-e9f8-ae13d6463cbd"
      },
      "outputs": [
        {
          "data": {
            "text/plain": [
              "array([[2190, 1682,   87],\n",
              "       [2186, 1392,   96],\n",
              "       [2186, 1108,   95],\n",
              "       [1604,  852,   20],\n",
              "       [1486, 1024,   20]])"
            ]
          },
          "execution_count": 13,
          "metadata": {},
          "output_type": "execute_result"
        }
      ],
      "source": [
        "circles\n",
        "# cv2.imshow(\"circle\",equ)"
      ]
    },
    {
      "attachments": {},
      "cell_type": "markdown",
      "metadata": {},
      "source": [
        "### Adding the circle coordinates to the common.csv"
      ]
    },
    {
      "cell_type": "code",
      "execution_count": 25,
      "metadata": {
        "id": "8IDJdt2SZ7vT"
      },
      "outputs": [],
      "source": [
        "# # Write each element in circles to common.csv\n",
        "# import csv\n",
        "# with open('common.csv', 'a') as myfile:\n",
        "#     for c in circles:\n",
        "#         wr = csv.writer(myfile, quoting=csv.QUOTE_ALL)\n",
        "#         # wr.writerow(c)\n",
        "#         x = c[0]\n",
        "#         y = c[1]\n",
        "#         r = c[2]\n",
        "#         wr.writerow([\"Circles\", \"\", -1, -1, x, y, -1, -1, r])"
      ]
    },
    {
      "cell_type": "code",
      "execution_count": null,
      "metadata": {},
      "outputs": [],
      "source": []
    }
  ],
  "metadata": {
    "colab": {
      "provenance": []
    },
    "kernelspec": {
      "display_name": "Python 3",
      "language": "python",
      "name": "python3"
    },
    "language_info": {
      "codemirror_mode": {
        "name": "ipython",
        "version": 3
      },
      "file_extension": ".py",
      "mimetype": "text/x-python",
      "name": "python",
      "nbconvert_exporter": "python",
      "pygments_lexer": "ipython3",
      "version": "3.9.0"
    },
    "vscode": {
      "interpreter": {
        "hash": "8807d809ecb30b06ce31d476480b5670d7de5a054084e3328a6e4c7aeab9e5f0"
      }
    }
  },
  "nbformat": 4,
  "nbformat_minor": 0
}
