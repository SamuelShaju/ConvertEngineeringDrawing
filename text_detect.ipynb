{
 "cells": [
  {
   "attachments": {},
   "cell_type": "markdown",
   "metadata": {},
   "source": [
    "### Import libraries"
   ]
  },
  {
   "cell_type": "code",
   "execution_count": 3,
   "metadata": {},
   "outputs": [],
   "source": [
    "import cv2\n",
    "import csv"
   ]
  },
  {
   "attachments": {},
   "cell_type": "markdown",
   "metadata": {},
   "source": [
    "### Define paramerters and API key"
   ]
  },
  {
   "cell_type": "code",
   "execution_count": 4,
   "metadata": {},
   "outputs": [],
   "source": [
    "PAT = '858d33cd787c47ccb0ab96e6728dbfd4'\n",
    "USER_ID = 'leumas'\n",
    "APP_ID = 'my-first-application'\n",
    "MODEL_ID = 'ocr-scene-english-paddleocr'\n",
    "MODEL_VERSION_ID = '40dbb2c9cde44a27af226782e7157006'\n",
    "IMAGE_FILE_LOCATION = './image/input_half.png'\n",
    "\n",
    "\n",
    "from clarifai_grpc.channel.clarifai_channel import ClarifaiChannel\n",
    "from clarifai_grpc.grpc.api import resources_pb2, service_pb2, service_pb2_grpc\n",
    "from clarifai_grpc.grpc.api.status import status_code_pb2\n",
    "\n",
    "channel = ClarifaiChannel.get_grpc_channel()\n",
    "stub = service_pb2_grpc.V2Stub(channel)\n",
    "\n",
    "metadata = (('authorization', 'Key ' + PAT),)\n",
    "\n",
    "userDataObject = resources_pb2.UserAppIDSet(user_id=USER_ID, app_id=APP_ID)\n",
    "\n",
    "with open(IMAGE_FILE_LOCATION, \"rb\") as f:\n",
    "    file_bytes = f.read()\n",
    "\n",
    "post_model_outputs_response = stub.PostModelOutputs(\n",
    "    service_pb2.PostModelOutputsRequest(\n",
    "        user_app_id=userDataObject,  \n",
    "        model_id=MODEL_ID,\n",
    "        version_id=MODEL_VERSION_ID,  \n",
    "        inputs=[\n",
    "            resources_pb2.Input(\n",
    "                data=resources_pb2.Data(\n",
    "                    image=resources_pb2.Image(\n",
    "                        base64=file_bytes\n",
    "                    )\n",
    "                )\n",
    "            )\n",
    "        ]\n",
    "    ),\n",
    "    metadata=metadata\n",
    ")\n",
    "if post_model_outputs_response.status.code != status_code_pb2.SUCCESS:\n",
    "    print(post_model_outputs_response.status)\n",
    "    raise Exception(\"Post model outputs failed, status: \" + post_model_outputs_response.status.description)\n",
    "\n",
    "\n",
    "output = post_model_outputs_response.outputs[0]\n",
    "\n",
    "\n",
    "\n"
   ]
  },
  {
   "attachments": {},
   "cell_type": "markdown",
   "metadata": {},
   "source": [
    "### Importing original image to refer original size"
   ]
  },
  {
   "cell_type": "code",
   "execution_count": 8,
   "metadata": {},
   "outputs": [
    {
     "data": {
      "text/plain": [
       "(2524, 2852, 3)"
      ]
     },
     "execution_count": 8,
     "metadata": {},
     "output_type": "execute_result"
    }
   ],
   "source": [
    "image = cv2.imread(IMAGE_FILE_LOCATION)\n",
    "image.shape"
   ]
  },
  {
   "cell_type": "code",
   "execution_count": 10,
   "metadata": {},
   "outputs": [
    {
     "name": "stdout",
     "output_type": "stream",
     "text": [
      "name 2\n",
      "top 788\n",
      "left 1585\n",
      "bottom 875\n",
      "right 1652\n",
      "\n",
      "name 2\n",
      "top 993\n",
      "left 1439\n",
      "bottom 1096\n",
      "right 1518\n",
      "\n",
      "name 2\n",
      "top 1064\n",
      "left 631\n",
      "bottom 1163\n",
      "right 682\n",
      "\n",
      "name 80\n",
      "top 1175\n",
      "left 1483\n",
      "bottom 1242\n",
      "right 1569\n",
      "\n",
      "name 40\n",
      "top 1313\n",
      "left 729\n",
      "bottom 1376\n",
      "right 816\n",
      "\n",
      "name 10\n",
      "top 1313\n",
      "left 2493\n",
      "bottom 1384\n",
      "right 2575\n",
      "\n",
      "name :\n",
      "top 1589\n",
      "left 1443\n",
      "bottom 1683\n",
      "right 1510\n",
      "\n",
      "name 2\n",
      "top 1648\n",
      "left 646\n",
      "bottom 1715\n",
      "right 698\n",
      "\n",
      "name 0\n",
      "top 1703\n",
      "left 1968\n",
      "bottom 1758\n",
      "right 2015\n",
      "\n",
      "name :\n",
      "top 1920\n",
      "left 1443\n",
      "bottom 2015\n",
      "right 1518\n",
      "\n",
      "name 50\n",
      "top 2169\n",
      "left 682\n",
      "bottom 2236\n",
      "right 769\n",
      "\n",
      "name 120\n",
      "top 2173\n",
      "left 1471\n",
      "bottom 2236\n",
      "right 1585\n",
      "\n",
      "name 30\n",
      "top 2173\n",
      "left 2193\n",
      "bottom 2236\n",
      "right 2280\n",
      "\n"
     ]
    }
   ],
   "source": [
    "for box in post_model_outputs_response.outputs[0].data.regions:\n",
    "        print(\"name\",box.data.text.raw)\n",
    "        print(\"top\",int(box.region_info.bounding_box.top_row * image.shape[0]))\n",
    "        print(\"left\", int(box.region_info.bounding_box.left_col * image.shape[1]))\n",
    "        print(\"bottom\", int(box.region_info.bounding_box.bottom_row * image.shape[0]))\n",
    "        print(\"right\",int(box.region_info.bounding_box.right_col * image.shape[1]))\n",
    "        print(\"\")\n"
   ]
  },
  {
   "attachments": {},
   "cell_type": "markdown",
   "metadata": {},
   "source": [
    "### Define function to get bounding box coordinates and write to solo file"
   ]
  },
  {
   "cell_type": "code",
   "execution_count": 63,
   "metadata": {},
   "outputs": [],
   "source": [
    "# with open('ocr_bb.csv', 'w') as myfile:\n",
    "#     for box in post_model_outputs_response.outputs[0].data.regions:\n",
    "#         wr = csv.writer(myfile, quoting=csv.QUOTE_ALL)\n",
    "#         name = box.data.text.raw\n",
    "#         top = int(box.region_info.bounding_box.top_row * image.shape[0])\n",
    "#         left = int(box.region_info.bounding_box.left_col * image.shape[1])\n",
    "#         bottom = int(box.region_info.bounding_box.bottom_row * image.shape[0])\n",
    "#         right = int(box.region_info.bounding_box.right_col * image.shape[1])\n",
    "# \n",
    "#         wr.writerow([name, top, left, bottom, right])"
   ]
  },
  {
   "attachments": {},
   "cell_type": "markdown",
   "metadata": {},
   "source": [
    "### Define function to get bounding box coordinates and write to common.csv file"
   ]
  },
  {
   "cell_type": "code",
   "execution_count": 64,
   "metadata": {},
   "outputs": [],
   "source": [
    "with open('common.csv', 'a') as myfile:\n",
    "    for box in post_model_outputs_response.outputs[0].data.regions:\n",
    "        wr = csv.writer(myfile, quoting=csv.QUOTE_ALL)\n",
    "        name = box.data.text.raw\n",
    "        top = int(box.region_info.bounding_box.top_row * image.shape[0])\n",
    "        left = int(box.region_info.bounding_box.left_col * image.shape[1])\n",
    "        bottom = int(box.region_info.bounding_box.bottom_row * image.shape[0])\n",
    "        right = int(box.region_info.bounding_box.right_col * image.shape[1])\n",
    "\n",
    "        wr.writerow([\"Dimension Text\", name, -1, -1, left, top, right, bottom, -1])"
   ]
  },
  {
   "cell_type": "code",
   "execution_count": null,
   "metadata": {},
   "outputs": [],
   "source": []
  }
 ],
 "metadata": {
  "kernelspec": {
   "display_name": "Python 3",
   "language": "python",
   "name": "python3"
  },
  "language_info": {
   "codemirror_mode": {
    "name": "ipython",
    "version": 3
   },
   "file_extension": ".py",
   "mimetype": "text/x-python",
   "name": "python",
   "nbconvert_exporter": "python",
   "pygments_lexer": "ipython3",
   "version": "3.9.0"
  },
  "orig_nbformat": 4,
  "vscode": {
   "interpreter": {
    "hash": "8807d809ecb30b06ce31d476480b5670d7de5a054084e3328a6e4c7aeab9e5f0"
   }
  }
 },
 "nbformat": 4,
 "nbformat_minor": 2
}
