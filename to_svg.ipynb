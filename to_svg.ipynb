{
 "cells": [
  {
   "attachments": {},
   "cell_type": "markdown",
   "metadata": {},
   "source": [
    "### Importing the packages"
   ]
  },
  {
   "cell_type": "code",
   "execution_count": 8,
   "metadata": {},
   "outputs": [],
   "source": [
    "import pandas as pd\n",
    "import cairo"
   ]
  },
  {
   "attachments": {},
   "cell_type": "markdown",
   "metadata": {},
   "source": [
    "### Reading csv file containing coordinates"
   ]
  },
  {
   "cell_type": "code",
   "execution_count": 9,
   "metadata": {},
   "outputs": [
    {
     "data": {
      "text/html": [
       "<div>\n",
       "<style scoped>\n",
       "    .dataframe tbody tr th:only-of-type {\n",
       "        vertical-align: middle;\n",
       "    }\n",
       "\n",
       "    .dataframe tbody tr th {\n",
       "        vertical-align: top;\n",
       "    }\n",
       "\n",
       "    .dataframe thead th {\n",
       "        text-align: right;\n",
       "    }\n",
       "</style>\n",
       "<table border=\"1\" class=\"dataframe\">\n",
       "  <thead>\n",
       "    <tr style=\"text-align: right;\">\n",
       "      <th></th>\n",
       "      <th>Symbol Name</th>\n",
       "      <th>Text</th>\n",
       "      <th>Height</th>\n",
       "      <th>Width</th>\n",
       "      <th>X1</th>\n",
       "      <th>Y1</th>\n",
       "      <th>X2</th>\n",
       "      <th>Y2</th>\n",
       "      <th>Radius</th>\n",
       "    </tr>\n",
       "  </thead>\n",
       "  <tbody>\n",
       "    <tr>\n",
       "      <th>0</th>\n",
       "      <td>CL</td>\n",
       "      <td>CL</td>\n",
       "      <td>-1</td>\n",
       "      <td>-1</td>\n",
       "      <td>4457.110840</td>\n",
       "      <td>1231.150269</td>\n",
       "      <td>4542.554199</td>\n",
       "      <td>1363.893311</td>\n",
       "      <td>-1</td>\n",
       "    </tr>\n",
       "    <tr>\n",
       "      <th>1</th>\n",
       "      <td>CL</td>\n",
       "      <td>CL</td>\n",
       "      <td>-1</td>\n",
       "      <td>-1</td>\n",
       "      <td>3545.378418</td>\n",
       "      <td>938.703674</td>\n",
       "      <td>3660.256592</td>\n",
       "      <td>1125.103638</td>\n",
       "      <td>-1</td>\n",
       "    </tr>\n",
       "    <tr>\n",
       "      <th>2</th>\n",
       "      <td>CL</td>\n",
       "      <td>CL</td>\n",
       "      <td>-1</td>\n",
       "      <td>-1</td>\n",
       "      <td>3299.121338</td>\n",
       "      <td>935.482666</td>\n",
       "      <td>3416.086914</td>\n",
       "      <td>1128.278687</td>\n",
       "      <td>-1</td>\n",
       "    </tr>\n",
       "    <tr>\n",
       "      <th>3</th>\n",
       "      <td>DL</td>\n",
       "      <td>DL</td>\n",
       "      <td>-1</td>\n",
       "      <td>-1</td>\n",
       "      <td>3692.555176</td>\n",
       "      <td>766.391174</td>\n",
       "      <td>3774.718994</td>\n",
       "      <td>905.493042</td>\n",
       "      <td>-1</td>\n",
       "    </tr>\n",
       "    <tr>\n",
       "      <th>4</th>\n",
       "      <td>CS</td>\n",
       "      <td>CS</td>\n",
       "      <td>-1</td>\n",
       "      <td>-1</td>\n",
       "      <td>3959.433594</td>\n",
       "      <td>1033.578735</td>\n",
       "      <td>4047.395508</td>\n",
       "      <td>1195.572388</td>\n",
       "      <td>-1</td>\n",
       "    </tr>\n",
       "  </tbody>\n",
       "</table>\n",
       "</div>"
      ],
      "text/plain": [
       "  Symbol Name  Text   Height   Width           X1           Y1           X2  \\\n",
       "0          CL    CL       -1      -1  4457.110840  1231.150269  4542.554199   \n",
       "1          CL    CL       -1      -1  3545.378418   938.703674  3660.256592   \n",
       "2          CL    CL       -1      -1  3299.121338   935.482666  3416.086914   \n",
       "3          DL    DL       -1      -1  3692.555176   766.391174  3774.718994   \n",
       "4          CS    CS       -1      -1  3959.433594  1033.578735  4047.395508   \n",
       "\n",
       "            Y2   Radius  \n",
       "0  1363.893311       -1  \n",
       "1  1125.103638       -1  \n",
       "2  1128.278687       -1  \n",
       "3   905.493042       -1  \n",
       "4  1195.572388       -1  "
      ]
     },
     "execution_count": 9,
     "metadata": {},
     "output_type": "execute_result"
    }
   ],
   "source": [
    "df = pd.read_csv('common.csv')\n",
    "df.head()"
   ]
  },
  {
   "attachments": {},
   "cell_type": "markdown",
   "metadata": {},
   "source": [
    "### Parsing through the coordinates and creating a SVG file"
   ]
  },
  {
   "cell_type": "code",
   "execution_count": 10,
   "metadata": {},
   "outputs": [],
   "source": [
    "with cairo.SVGSurface(\"output.svg\", 5000, 3000) as surface:\n",
    "        ctx = cairo.Context(surface)\n",
    "        for index, row in df.iterrows():\n",
    "                if row['Symbol Name']==\"Circles\":\n",
    "                        ctx.move_to(row[' X1'], row[' Y1'])\n",
    "                        ctx.arc(row[' X1'], row[' Y1'], row[' Radius'], 0, 2 * 3.14)\n",
    "                        ctx.set_source_rgb(0, 255, 0)\n",
    "                        ctx.set_line_width(5)\n",
    "                elif row['Symbol Name']==\"Line\":\n",
    "                        ctx.move_to(row[' X1'], row[' Y1'])\n",
    "                        ctx.line_to(row[' X2'], row[' Y2'])\n",
    "                        ctx.set_source_rgb(255, 0, 0)\n",
    "                        ctx.set_line_width(5)\n",
    "                elif row['Symbol Name']==\"Dimension Text\":\n",
    "                        ctx.move_to(row[' X1'], row[' Y1'])\n",
    "                        ctx.set_source_rgb(0, 0, 255)\n",
    "                        ctx.set_font_size(60)\n",
    "                        ctx.show_text(row[' Text'])\n",
    "                elif row['Symbol Name']==\"DL\":\n",
    "                        ctx.move_to(row[' X1'], row[' Y1'])\n",
    "                        ctx.rectangle(row[' X1'], row[' Y1'], row[' X2']-row[' X1'], row[' Y2']-row[' Y1'])\n",
    "                        ctx.set_source_rgb(0, 0, 255)\n",
    "                        ctx.set_line_width(5)\n",
    "                        ctx.set_font_size(60)\n",
    "                        ctx.show_text(row[' Text'])\n",
    "                elif row['Symbol Name']==\"CL\":\n",
    "                        ctx.move_to(row[' X1'], row[' Y1'])\n",
    "                        ctx.rectangle(row[' X1'], row[' Y1'], row[' X2']-row[' X1'], row[' Y2']-row[' Y1'])\n",
    "                        ctx.set_source_rgb(0, 255, 255)\n",
    "                        ctx.set_line_width(9)\n",
    "                        ctx.set_font_size(60)\n",
    "                        ctx.show_text(row[' Text'])\n",
    "                elif row['Symbol Name']==\"CS\":\n",
    "                        ctx.move_to(row[' X1'], row[' Y1'])\n",
    "                        ctx.rectangle(row[' X1'], row[' Y1'], row[' X2']-row[' X1'], row[' Y2']-row[' Y1'])\n",
    "                        ctx.set_source_rgb(0, 255, 255)\n",
    "                        ctx.set_line_width(5)\n",
    "                        ctx.set_font_size(60)\n",
    "                        ctx.show_text(row[' Text'])\n",
    "                ctx.stroke()"
   ]
  }
 ],
 "metadata": {
  "kernelspec": {
   "display_name": "Python 3",
   "language": "python",
   "name": "python3"
  },
  "language_info": {
   "codemirror_mode": {
    "name": "ipython",
    "version": 3
   },
   "file_extension": ".py",
   "mimetype": "text/x-python",
   "name": "python",
   "nbconvert_exporter": "python",
   "pygments_lexer": "ipython3",
   "version": "3.9.0"
  },
  "orig_nbformat": 4,
  "vscode": {
   "interpreter": {
    "hash": "8807d809ecb30b06ce31d476480b5670d7de5a054084e3328a6e4c7aeab9e5f0"
   }
  }
 },
 "nbformat": 4,
 "nbformat_minor": 2
}
